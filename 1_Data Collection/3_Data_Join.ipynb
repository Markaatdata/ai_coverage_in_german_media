{
 "cells": [
  {
   "cell_type": "markdown",
   "id": "925c1a26",
   "metadata": {},
   "source": [
    "# Zusammenfassung aller Daten aus dem Web Scraping"
   ]
  },
  {
   "cell_type": "code",
   "execution_count": 14,
   "id": "b01d6e91",
   "metadata": {},
   "outputs": [],
   "source": [
    "#Import Bibliothek\n",
    "import pandas as pd"
   ]
  },
  {
   "cell_type": "code",
   "execution_count": 15,
   "id": "eb78fe76",
   "metadata": {},
   "outputs": [],
   "source": [
    "#Definieren Sie den Basispfad, in dem die CSV-Dateien gespeichert werden\n",
    "base_path = r'C:\\Users\\MarkE\\OneDrive\\_Career\\2021-2024_Master Big Data\\5_Semester\\_THESIS\\5_Code\\5.1_Datenverständnis\\5.1.1_Datensammlung\\\\'"
   ]
  },
  {
   "cell_type": "code",
   "execution_count": 16,
   "id": "b2a8d959",
   "metadata": {},
   "outputs": [],
   "source": [
    "#Dateinamen definieren\n",
    "files = ['2_Daten_FAZ.csv', '2_Daten_Focus.csv','2_Daten_RND.csv','2_Daten_Spiegel.csv','2_Daten_Sueddeutsche.csv','2_Daten_Tagesspiegel.csv','2_Daten_Watson.csv','2_Daten_Zeit.csv',\n",
    "        '2_Daten_FAZ_V2.csv', '2_Daten_Focus_V2.csv','2_Daten_RND_V2.csv','2_Daten_Spiegel_V2.csv','2_Daten_Sueddeutsche_V2.csv','2_Daten_Tagesspiegel_V2.csv','2_Daten_Watson_V2.csv','2_Daten_Zeit_V2.csv']\n",
    "column_names = ['Quelle', 'Datum', 'Link', 'Titel','Text']\n",
    "new_file = '4_Daten_alle.csv'  "
   ]
  },
  {
   "cell_type": "code",
   "execution_count": 17,
   "id": "143ae610",
   "metadata": {},
   "outputs": [],
   "source": [
    "#Liste zum Speichern der DataFrames\n",
    "df_list = []\n",
    "\n",
    "for file in files:\n",
    "    #Konstruiere den vollständigen Dateipfad\n",
    "    full_file_path = base_path + file\n",
    "    #Jede Datei mit den spezifischen Spalten lesen\n",
    "    df = pd.read_csv(full_file_path, usecols=column_names)\n",
    "    df_list.append(df)"
   ]
  },
  {
   "cell_type": "code",
   "execution_count": 18,
   "id": "b6b28348",
   "metadata": {},
   "outputs": [],
   "source": [
    "#Alle DataFrames in der Liste kombinieren\n",
    "combined_df = pd.concat(df_list, ignore_index=True)"
   ]
  },
  {
   "cell_type": "code",
   "execution_count": 19,
   "id": "b8440988",
   "metadata": {},
   "outputs": [],
   "source": [
    "#Speichern der Ergebnisse in einer neuen CSV-Datei\n",
    "combined_df.to_csv(new_file, index=False)"
   ]
  },
  {
   "cell_type": "code",
   "execution_count": null,
   "id": "a2c37a0e",
   "metadata": {},
   "outputs": [],
   "source": []
  }
 ],
 "metadata": {
  "kernelspec": {
   "display_name": "Python 3 (ipykernel)",
   "language": "python",
   "name": "python3"
  },
  "language_info": {
   "codemirror_mode": {
    "name": "ipython",
    "version": 3
   },
   "file_extension": ".py",
   "mimetype": "text/x-python",
   "name": "python",
   "nbconvert_exporter": "python",
   "pygments_lexer": "ipython3",
   "version": "3.10.9"
  }
 },
 "nbformat": 4,
 "nbformat_minor": 5
}
