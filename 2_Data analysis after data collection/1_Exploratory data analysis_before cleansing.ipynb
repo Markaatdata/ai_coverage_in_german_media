{
 "cells": [
  {
   "cell_type": "markdown",
   "id": "f1243eac",
   "metadata": {},
   "source": [
    "# Explorative Datenanalyse der gesammelten Daten "
   ]
  },
  {
   "cell_type": "code",
   "execution_count": 35,
   "id": "a89ca79f",
   "metadata": {},
   "outputs": [],
   "source": [
    "#Import Bibliotheken\n",
    "import pandas as pd\n",
    "import matplotlib.pyplot as plt\n",
    "from collections import Counter"
   ]
  },
  {
   "cell_type": "code",
   "execution_count": 36,
   "id": "c76e1021",
   "metadata": {},
   "outputs": [
    {
     "name": "stdout",
     "output_type": "stream",
     "text": [
      "  Quelle       Datum                                               Link  \\\n",
      "0    FAZ  11/30/2023  https://www.faz.net/aktuell/wirtschaft/unterne...   \n",
      "1    FAZ  11/30/2023  https://www.faz.net/aktuell/wirtschaft/kuenstl...   \n",
      "2    FAZ  11/29/2023  https://www.faz.net/aktuell/feuilleton/medien/...   \n",
      "3    FAZ  11/28/2023  https://www.faz.net/pro/d-economy/kuenstliche-...   \n",
      "4    FAZ  11/28/2023  https://www.faz.net/pro/d-economy/kuenstliche-...   \n",
      "\n",
      "                                               Titel  \\\n",
      "0  KI: Warum wir nicht mit Roboter-Autos vollauto...   \n",
      "1  Microsoft: Sind Jahrzehnte von einer künstlich...   \n",
      "2  Künstliche Intelligenz: Europa muss von neuen ...   \n",
      "3  Bilderstrecke zu: Was die Superintelligenz-KI ...   \n",
      "4  Was die Superintelligenz-KI anrichten könnte, ...   \n",
      "\n",
      "                                                Text  \n",
      "0  Roboterautos faszinieren viele – die Augen der...  \n",
      "1  Der Krieg von Mensch gegen Maschine verschiebt...  \n",
      "2  Durch den Streik gegen die Hollywoodbosse habe...  \n",
      "3                                                     \n",
      "4  ChatGPT macht Spaß, aber was ist, wenn es erns...  \n"
     ]
    }
   ],
   "source": [
    "#Abruf und Anzeige DataFrame\n",
    "file_path = r'4_Daten_alle.csv'\n",
    "df = pd.read_csv(file_path)\n",
    "print(df.head())"
   ]
  },
  {
   "cell_type": "code",
   "execution_count": 37,
   "id": "6d9dfb43",
   "metadata": {},
   "outputs": [
    {
     "data": {
      "text/plain": [
       "(10841, 5)"
      ]
     },
     "execution_count": 37,
     "metadata": {},
     "output_type": "execute_result"
    }
   ],
   "source": [
    "#Dekriptive Analyse des DataFrame\n",
    "\n",
    "#Gestaltung (Shape) des DataFrames\n",
    "df.shape"
   ]
  },
  {
   "cell_type": "code",
   "execution_count": 38,
   "id": "277cdac1",
   "metadata": {},
   "outputs": [
    {
     "name": "stdout",
     "output_type": "stream",
     "text": [
      "<class 'pandas.core.frame.DataFrame'>\n",
      "RangeIndex: 10841 entries, 0 to 10840\n",
      "Data columns (total 5 columns):\n",
      " #   Column  Non-Null Count  Dtype \n",
      "---  ------  --------------  ----- \n",
      " 0   Quelle  10841 non-null  object\n",
      " 1   Datum   10841 non-null  object\n",
      " 2   Link    10841 non-null  object\n",
      " 3   Titel   10841 non-null  object\n",
      " 4   Text    9562 non-null   object\n",
      "dtypes: object(5)\n",
      "memory usage: 423.6+ KB\n"
     ]
    }
   ],
   "source": [
    "#Informationen (Info) über den DataFrame\n",
    "df.info()"
   ]
  },
  {
   "cell_type": "code",
   "execution_count": 39,
   "id": "ef3a8737",
   "metadata": {},
   "outputs": [
    {
     "name": "stdout",
     "output_type": "stream",
     "text": [
      "       Quelle      Datum                                               Link  \\\n",
      "count   10841      10841                                              10841   \n",
      "unique      8        839                                               5998   \n",
      "top       FAZ  11/2/2023  https://www.sueddeutsche.de/wirtschaft/kuenstl...   \n",
      "freq     1902         73                                                  6   \n",
      "\n",
      "         Titel  Text  \n",
      "count    10841  9562  \n",
      "unique    5977  5228  \n",
      "top     #NAME?        \n",
      "freq        10   366  \n"
     ]
    }
   ],
   "source": [
    "#Beschreibung (Describe) über den DataFrame\n",
    "print(df.describe())"
   ]
  },
  {
   "cell_type": "code",
   "execution_count": 40,
   "id": "a753732a",
   "metadata": {},
   "outputs": [
    {
     "name": "stdout",
     "output_type": "stream",
     "text": [
      "Anzahl der Duplikate: 4786\n",
      "      Quelle       Datum                                               Link  \\\n",
      "8        FAZ  11/28/2023  https://www.faz.net/pro/d-economy/kuenstliche-...   \n",
      "12       FAZ  11/30/2023  https://www.faz.net/aktuell/wirtschaft/kuenstl...   \n",
      "13       FAZ  11/28/2023  https://www.faz.net/pro/d-economy/kuenstliche-...   \n",
      "14       FAZ  11/30/2023  https://www.faz.net/aktuell/wirtschaft/unterne...   \n",
      "15       FAZ  11/29/2023  https://www.faz.net/aktuell/wirtschaft/unterne...   \n",
      "...      ...         ...                                                ...   \n",
      "10835   Zeit   12/2/2023  https://www.zeit.de/2023/51/kuenstliche-intell...   \n",
      "10836   Zeit   12/3/2023  https://www.zeit.de/digital/internet/2023-12/k...   \n",
      "10837   Zeit   12/4/2023  https://www.zeit.de/digital/2023-11/ki-gesetz-...   \n",
      "10838   Zeit   12/3/2023  https://www.zeit.de/politik/ausland/2023-12/is...   \n",
      "10840   Zeit   12/2/2023  https://www.zeit.de/2023/51/kuenstliche-intell...   \n",
      "\n",
      "                                                   Titel  \\\n",
      "8      Was die Superintelligenz-KI anrichten könnte, ...   \n",
      "12     Microsoft: Sind Jahrzehnte von einer künstlich...   \n",
      "13     Was die Superintelligenz-KI anrichten könnte, ...   \n",
      "14     KI: Warum wir nicht mit Roboter-Autos vollauto...   \n",
      "15     Attacke auf Chinas KI-Hoffnung: Leerverkäufer ...   \n",
      "...                                                  ...   \n",
      "10835  Künstliche Intelligenz: KI kann wissenschaftli...   \n",
      "10836  Künstliche Intelligenz in der Arbeitswelt: \"Wi...   \n",
      "10837  KI-Gesetz der EU: Regulierung oder Innovation?...   \n",
      "10838  Krieg in Gaza: Die \"Zielfabrik\" der israelisch...   \n",
      "10840  Künstliche Intelligenz: KI kann wissenschaftli...   \n",
      "\n",
      "                                                    Text  \n",
      "8      ChatGPT macht Spaß, aber was ist, wenn es erns...  \n",
      "12     Der Krieg von Mensch gegen Maschine verschiebt...  \n",
      "13     ChatGPT macht Spaß, aber was ist, wenn es erns...  \n",
      "14     Roboterautos faszinieren viele – die Augen der...  \n",
      "15     „Künstlich aufgeblasene Umsätze“, „schrecklich...  \n",
      "...                                                  ...  \n",
      "10835  Tina Kretschmer ist Professorin für Erziehungs...  \n",
      "10836                                                NaN  \n",
      "10837  Wenn der Verkehrsminister, der auch Digitalmin...  \n",
      "10838  Seit dem Überfall der Hamas auf Israel fliegt ...  \n",
      "10840  Tina Kretschmer ist Professorin für Erziehungs...  \n",
      "\n",
      "[4786 rows x 5 columns]\n"
     ]
    }
   ],
   "source": [
    "#Prüfung Duplikate in dem DataFrame\n",
    "duplicates = df[df.duplicated()]\n",
    "num_duplicates = len(duplicates)\n",
    "\n",
    "print(\"Anzahl der Duplikate:\", num_duplicates)\n",
    "print(duplicates)"
   ]
  },
  {
   "cell_type": "code",
   "execution_count": 41,
   "id": "2b5fe1f6",
   "metadata": {},
   "outputs": [
    {
     "name": "stdout",
     "output_type": "stream",
     "text": [
      "Gesamtanzahl der Wörter im Titel: 118256\n",
      "Gesamtanzahl der Wörter im Text: 5204197\n",
      "       Anzahl Wörter Titel  Anzahl Wörter Text\n",
      "count         10841.000000        10841.000000\n",
      "mean             10.908219          480.047689\n",
      "std               2.925011          493.846364\n",
      "min               1.000000            0.000000\n",
      "25%               9.000000          109.000000\n",
      "50%              11.000000          376.000000\n",
      "75%              13.000000          675.000000\n",
      "max              27.000000         5771.000000\n",
      "      Quelle       Datum                                               Link  \\\n",
      "0        FAZ  11/30/2023  https://www.faz.net/aktuell/wirtschaft/unterne...   \n",
      "1        FAZ  11/30/2023  https://www.faz.net/aktuell/wirtschaft/kuenstl...   \n",
      "2        FAZ  11/29/2023  https://www.faz.net/aktuell/feuilleton/medien/...   \n",
      "3        FAZ  11/28/2023  https://www.faz.net/pro/d-economy/kuenstliche-...   \n",
      "4        FAZ  11/28/2023  https://www.faz.net/pro/d-economy/kuenstliche-...   \n",
      "...      ...         ...                                                ...   \n",
      "10836   Zeit   12/3/2023  https://www.zeit.de/digital/internet/2023-12/k...   \n",
      "10837   Zeit   12/4/2023  https://www.zeit.de/digital/2023-11/ki-gesetz-...   \n",
      "10838   Zeit   12/3/2023  https://www.zeit.de/politik/ausland/2023-12/is...   \n",
      "10839   Zeit   12/2/2023  https://www.zeit.de/news/2023-12/02/neuer-poli...   \n",
      "10840   Zeit   12/2/2023  https://www.zeit.de/2023/51/kuenstliche-intell...   \n",
      "\n",
      "                                                   Titel  \\\n",
      "0      KI: Warum wir nicht mit Roboter-Autos vollauto...   \n",
      "1      Microsoft: Sind Jahrzehnte von einer künstlich...   \n",
      "2      Künstliche Intelligenz: Europa muss von neuen ...   \n",
      "3      Bilderstrecke zu: Was die Superintelligenz-KI ...   \n",
      "4      Was die Superintelligenz-KI anrichten könnte, ...   \n",
      "...                                                  ...   \n",
      "10836  Künstliche Intelligenz in der Arbeitswelt: \"Wi...   \n",
      "10837  KI-Gesetz der EU: Regulierung oder Innovation?...   \n",
      "10838  Krieg in Gaza: Die \"Zielfabrik\" der israelisch...   \n",
      "10839  Polizei: Neuer Polizeipräsident: Bei Verbreche...   \n",
      "10840  Künstliche Intelligenz: KI kann wissenschaftli...   \n",
      "\n",
      "                                                    Text  Anzahl Wörter Titel  \\\n",
      "0      Roboterautos faszinieren viele – die Augen der...                    9   \n",
      "1      Der Krieg von Mensch gegen Maschine verschiebt...                    8   \n",
      "2      Durch den Streik gegen die Hollywoodbosse habe...                   10   \n",
      "3                                                                          21   \n",
      "4      ChatGPT macht Spaß, aber was ist, wenn es erns...                   12   \n",
      "...                                                  ...                  ...   \n",
      "10836                                                NaN                   15   \n",
      "10837  Wenn der Verkehrsminister, der auch Digitalmin...                   10   \n",
      "10838  Seit dem Überfall der Hamas auf Israel fliegt ...                   11   \n",
      "10839  Hamburgs neuer Polizeipräsident Falk Schnabel ...                   10   \n",
      "10840  Tina Kretschmer ist Professorin für Erziehungs...                   11   \n",
      "\n",
      "       Anzahl Wörter Text  \n",
      "0                    1963  \n",
      "1                     310  \n",
      "2                    1285  \n",
      "3                       0  \n",
      "4                     459  \n",
      "...                   ...  \n",
      "10836                   0  \n",
      "10837                 457  \n",
      "10838                 807  \n",
      "10839                 363  \n",
      "10840                 524  \n",
      "\n",
      "[10841 rows x 7 columns]\n"
     ]
    }
   ],
   "source": [
    "#Zählen Anzahl der Wörter pro Nachrichtenartikel\n",
    "df['Anzahl Wörter Titel'] = df['Titel'].apply(lambda x: len(str(x).split()) if pd.notnull(x) else 0)\n",
    "total_words_titel = df['Anzahl Wörter Titel'].sum()\n",
    "\n",
    "df['Anzahl Wörter Text'] = df['Text'].apply(lambda x: len(str(x).split()) if pd.notnull(x) else 0)\n",
    "total_words_text = df['Anzahl Wörter Text'].sum()\n",
    "\n",
    "print(\"Gesamtanzahl der Wörter im Titel:\", total_words_titel)\n",
    "print(\"Gesamtanzahl der Wörter im Text:\", total_words_text)\n",
    "\n",
    "#Beschreibung (Describe) über den DataFrame\n",
    "print(df.describe())\n",
    "\n",
    "print(df)"
   ]
  },
  {
   "cell_type": "code",
   "execution_count": 42,
   "id": "bb27f152",
   "metadata": {},
   "outputs": [
    {
     "name": "stdout",
     "output_type": "stream",
     "text": [
      "     Wort  Anzahl im Text  Anzahl im Titel  Anzahl Gesamt\n",
      "0     die        144551.0           1479.0       146030.0\n",
      "1     der        127115.0           1645.0       128760.0\n",
      "2     und        116348.0           1842.0       118190.0\n",
      "3      in         78332.0           1494.0        79826.0\n",
      "4     von         60583.0           1098.0        61681.0\n",
      "5      zu         55591.0            563.0        56154.0\n",
      "6     das         49008.0            489.0        49497.0\n",
      "7     den         47605.0            430.0        48035.0\n",
      "8     mit         44812.0           1075.0        45887.0\n",
      "9     für         40653.0           1202.0        41855.0\n",
      "10    auf         37680.0            601.0        38281.0\n",
      "11    ist         37483.0            573.0        38056.0\n",
      "12   sich         35672.0            421.0        36093.0\n",
      "13   eine         33479.0            260.0        33739.0\n",
      "14  nicht         32999.0            299.0        33298.0\n",
      "15     es         31467.0            209.0        31676.0\n",
      "16    ein         30850.0            415.0        31265.0\n",
      "17     im         29305.0            742.0        30047.0\n",
      "18   auch         29850.0            115.0        29965.0\n",
      "19   dass         27230.0             57.0        27287.0\n"
     ]
    }
   ],
   "source": [
    "#Zählen der häufigsten Wörter im Titel und im Text\n",
    "\n",
    "#Wörter in allen Einträgen der Spalte \"Text_bereinigt\" aufteilen und in einer Liste sammeln\n",
    "words = df['Text'].str.split(expand=True).stack()\n",
    "\n",
    "#Zähle die Wörter mit Counter\n",
    "word_counts = Counter(words)\n",
    "\n",
    "#Abrufen und Sortieren der häufigsten Wörter\n",
    "most_common_words = word_counts.most_common()\n",
    "\n",
    "#Umwandlung der Liste der häufigsten Wörter in einen DataFrame\n",
    "df_most_common_words = pd.DataFrame(most_common_words, columns=['Wort', 'Anzahl im Text'])\n",
    "\n",
    "#Anzahl der einzelnen Wörter im Titel\n",
    "\n",
    "#Wörter in allen Einträgen der Spalte \"Titel_bereinigt\" aufteilen und in einer Liste sammeln (für den Titel)\n",
    "head_words = df['Titel'].str.split(expand=True).stack()\n",
    "\n",
    "#Zähle die Wörter mit Counter\n",
    "head_word_counts = Counter(head_words)\n",
    "\n",
    "#Abrufen und Sortieren der häufigsten Wörter\n",
    "head_most_common_words = head_word_counts.most_common()\n",
    "\n",
    "#Umwandlung der Liste der häufigsten Wörter in einen DataFrame\n",
    "df_head_most_common_words = pd.DataFrame(head_most_common_words, columns=['Wort', 'Anzahl im Titel'])\n",
    "\n",
    "#Full outer Verknüpfung mit der Spalte 'Wort'\n",
    "df_single_combined = pd.merge(df_most_common_words, df_head_most_common_words, on='Wort', how='outer')\n",
    "\n",
    "#Füllen von NaN-Werten mit 0 für die Berechnung in df_single_combined\n",
    "df_single_combined['Anzahl im Text'] = df_single_combined['Anzahl im Text'].fillna(0)\n",
    "df_single_combined['Anzahl im Titel'] = df_single_combined['Anzahl im Titel'].fillna(0)\n",
    "\n",
    "# Hinzufügen einer neuen Spalte 'Anzahl Gesamt' durch Summierung von 'Anzahl im Text' und 'Anzahl im Titel'\n",
    "df_single_combined['Anzahl Gesamt'] = df_single_combined['Anzahl im Text'] + df_single_combined['Anzahl im Titel']\n",
    "\n",
    "#Sortieren des df_single_combined DataFrame nach 'Anzahl Gesamt' in absteigender Reihenfolge\n",
    "df_single_combined = df_single_combined.sort_values(by='Anzahl Gesamt', ascending=False)\n",
    "\n",
    "#Zurücksetzen des Index\n",
    "df_single_combined = df_single_combined.reset_index(drop=True)\n",
    "\n",
    "#Speichern des sortierten df_single_combined DataFrame in CSV\n",
    "df_single_combined.to_csv('2_Einzelwörter.csv', index=False)\n",
    "\n",
    "#Oberen Teil des sortierten df_single_combined DataFrame anzeigen, um zu überprüfen\n",
    "print(df_single_combined.head(20))"
   ]
  },
  {
   "cell_type": "code",
   "execution_count": 43,
   "id": "1f4916eb",
   "metadata": {},
   "outputs": [
    {
     "name": "stdout",
     "output_type": "stream",
     "text": [
      "                    Wörter  Anzahl im Text  Anzahl im Titel  Anzahl Gesamt\n",
      "0                   in der         14846.0            365.0        15211.0\n",
      "1                   in den          7941.0             57.0         7998.0\n",
      "2                  für die          7826.0            119.0         7945.0\n",
      "3                  mit dem          4932.0             39.0         4971.0\n",
      "4                  auf die          4894.0             24.0         4918.0\n",
      "5                  und die          4678.0             49.0         4727.0\n",
      "6                  bei der          4397.0             57.0         4454.0\n",
      "7   Künstliche Intelligenz          3642.0            748.0         4390.0\n",
      "8                  mit der          4293.0             31.0         4324.0\n",
      "9                 dass die          4177.0              3.0         4180.0\n",
      "10                 von der          3792.0             29.0         3821.0\n",
      "11                  in die          3775.0             36.0         3811.0\n",
      "12                  die KI          3130.0            156.0         3286.0\n",
      "13                 gibt es          3144.0             19.0         3163.0\n",
      "14                  an der          3078.0             45.0         3123.0\n",
      "15                   – und          3007.0             85.0         3092.0\n",
      "16                 auf der          3052.0             25.0         3077.0\n",
      "17                  um die          3016.0             35.0         3051.0\n",
      "18                 auf den          2950.0             40.0         2990.0\n",
      "19                 auf dem          2953.0             24.0         2977.0\n"
     ]
    }
   ],
   "source": [
    "#Zählen der häufigsten \"2 zusammenhängenden Wörter\" im Titel und im Text\n",
    "\n",
    "#Funktion zum Erzeugen von Bigrammen aus einer Zeichenkette\n",
    "def create_bigrams(text):\n",
    "    if isinstance(text, str):  # Überprüfe, ob der Text ein String ist\n",
    "        # Aufteilung des Textes in Wörter\n",
    "        words = text.split()\n",
    "        # Erstellen von Bigrammen, indem aufeinanderfolgende Wörter gepaart werden\n",
    "        bigrams = [' '.join(pair) for pair in zip(words[:-1], words[1:])]\n",
    "        return bigrams\n",
    "    else:\n",
    "        return []  # Wenn der Text kein String ist, gib eine leere Liste zurück\n",
    "\n",
    "# Anwendung der Funktion auf jeden Eintrag in der Spalte \"Text_bereinigt\" und Sammlung aller Bigramme in einer Liste\n",
    "bigrams_list = df['Text'].apply(create_bigrams).sum()\n",
    "# Zählen der Bigramme mit Counter\n",
    "bigram_counts = Counter(bigrams_list)\n",
    "\n",
    "#Abrufen und Sortieren der häufigsten Bigramme\n",
    "most_common_bigrams = bigram_counts.most_common()\n",
    "\n",
    "#Umwandlung der Liste der häufigsten Bigramme in einen DataFrame\n",
    "df_most_common_bigrams = pd.DataFrame(most_common_bigrams, columns=['Wörter', 'Anzahl im Text'])\n",
    "\n",
    "#Anzahl mit zwei Wörtern in der Überschrift\n",
    "\n",
    "#Funktion zum Erzeugen von Bigrammen aus einer Zeichenkette\n",
    "def create_bigrams(text):\n",
    "    #Aufteilung des Textes in Wörter\n",
    "    words = text.split()\n",
    "    #Bilden von Bigrammen, indem aufeinanderfolgende Wörter gepaart werden\n",
    "    bigrams = [' '.join(pair) for pair in zip(words[:-1], words[1:])]\n",
    "    return bigrams\n",
    "\n",
    "# Anwendung der Funktion auf jeden Eintrag in der Spalte \"Titel_bereinigt\" und Sammlung aller Bigramme in einer Liste\n",
    "bigrams_list = df['Titel'].apply(create_bigrams).sum()\n",
    "\n",
    "#Zählen der Bigramme mit Counter\n",
    "bigram_counts = Counter(bigrams_list)\n",
    "\n",
    "#Abrufen und Sortieren der häufigsten Bigramme\n",
    "most_common_bigrams = bigram_counts.most_common()\n",
    "\n",
    "#Konvertieren der Liste häufig vorkommender Bigramme in einen DataFrame\n",
    "df_head_most_common_bigrams = pd.DataFrame(most_common_bigrams, columns=['Wörter', 'Anzahl im Titel'])\n",
    "\n",
    "#Verknüpfung mit der Spalte 'Wort'\n",
    "df_bigrams_combined = pd.merge(df_most_common_bigrams, df_head_most_common_bigrams, on='Wörter', how='outer')\n",
    "\n",
    "#Füllen von NaN-Werten mit 0 für die Berechnung in df_single_combined\n",
    "df_bigrams_combined['Anzahl im Text'] = df_bigrams_combined['Anzahl im Text'].fillna(0)\n",
    "df_bigrams_combined['Anzahl im Titel'] = df_bigrams_combined['Anzahl im Titel'].fillna(0)\n",
    "\n",
    "#Hinzufügen einer neuen Spalte 'Anzahl Gesamt' durch Summierung von 'Anzahl im Text' und 'Anzahl im Titel' in df_single_combined\n",
    "df_bigrams_combined['Anzahl Gesamt'] = df_bigrams_combined['Anzahl im Text'] + df_bigrams_combined['Anzahl im Titel']\n",
    "\n",
    "#Sortieren des df_single_combined DataFrame nach 'Anzahl Gesamt' in absteigender Reihenfolge\n",
    "df_bigrams_combined = df_bigrams_combined.sort_values(by='Anzahl Gesamt', ascending=False)\n",
    "\n",
    "#Zurücksetzen des Index\n",
    "df_bigrams_combined = df_bigrams_combined.reset_index(drop=True)\n",
    "\n",
    "#Speichern des sortierten df_single_combined DataFrame in CSV\n",
    "df_bigrams_combined.to_csv('3_Zwei_Wörter.csv', index=False)\n",
    "\n",
    "#Anzeige des oberen Teils des sortierten df_bigrams_combined DataFrame, um zu überprüfen\n",
    "print(df_bigrams_combined.head(20))\n"
   ]
  },
  {
   "cell_type": "code",
   "execution_count": null,
   "id": "feb0d537",
   "metadata": {},
   "outputs": [],
   "source": []
  }
 ],
 "metadata": {
  "kernelspec": {
   "display_name": "Python 3 (ipykernel)",
   "language": "python",
   "name": "python3"
  },
  "language_info": {
   "codemirror_mode": {
    "name": "ipython",
    "version": 3
   },
   "file_extension": ".py",
   "mimetype": "text/x-python",
   "name": "python",
   "nbconvert_exporter": "python",
   "pygments_lexer": "ipython3",
   "version": "3.10.9"
  }
 },
 "nbformat": 4,
 "nbformat_minor": 5
}
